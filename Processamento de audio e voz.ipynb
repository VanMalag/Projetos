{
  "nbformat": 4,
  "nbformat_minor": 0,
  "metadata": {
    "colab": {
      "provenance": [],
      "authorship_tag": "ABX9TyNHvn4UEvU5sBmpaFc9QWVF",
      "include_colab_link": true
    },
    "kernelspec": {
      "name": "python3",
      "display_name": "Python 3"
    },
    "language_info": {
      "name": "python"
    }
  },
  "cells": [
    {
      "cell_type": "markdown",
      "metadata": {
        "id": "view-in-github",
        "colab_type": "text"
      },
      "source": [
        "<a href=\"https://colab.research.google.com/github/VanMalag/Projetos/blob/main/Processamento%20de%20audio%20e%20voz.ipynb\" target=\"_parent\"><img src=\"https://colab.research.google.com/assets/colab-badge.svg\" alt=\"Open In Colab\"/></a>"
      ]
    },
    {
      "cell_type": "markdown",
      "source": [],
      "metadata": {
        "id": "N1H_7PiOQs9P"
      }
    },
    {
      "cell_type": "markdown",
      "source": [
        "**Disciplina: Processamento de Áudio e Voz**"
      ],
      "metadata": {
        "id": "Tl1TzrK_Q0kl"
      }
    },
    {
      "cell_type": "markdown",
      "source": [
        "Funções de Ativação"
      ],
      "metadata": {
        "id": "h283eSrLQ59r"
      }
    },
    {
      "cell_type": "code",
      "source": [
        "\n",
        "import numpy as np\n",
        "import matplotlib.pyplot as plt"
      ],
      "metadata": {
        "id": "hsv1mtSrQsqa"
      },
      "execution_count": 1,
      "outputs": []
    },
    {
      "cell_type": "code",
      "source": [
        "def reLU(x): \n",
        "  n = x.size\n",
        "  z= np.zeros(n)\n",
        "  for i in range(n):\n",
        "    if(x[i]>0):\n",
        "      z[i] = x[i]   \n",
        "  return z\n",
        "     "
      ],
      "metadata": {
        "id": "aXxVfxVDRANM"
      },
      "execution_count": 2,
      "outputs": []
    },
    {
      "cell_type": "code",
      "source": [
        "def tangenteHiperbolica(x):\n",
        "  tanh = 2 / (1 + np.exp(-2*x)) -1\n",
        "  return tanh"
      ],
      "metadata": {
        "id": "wwUBM2QYRBOl"
      },
      "execution_count": 5,
      "outputs": []
    },
    {
      "cell_type": "code",
      "source": [
        "def sigmoid(x): \n",
        "  z = 1/(1 + np.exp(-x)) \n",
        "  return z"
      ],
      "metadata": {
        "id": "iCf-Tsh3REUk"
      },
      "execution_count": 6,
      "outputs": []
    },
    {
      "cell_type": "code",
      "source": [
        "def softmax(x): \n",
        "  p = []\n",
        "  soma = sum(np.exp(x))\n",
        "  n = len(x)\n",
        "  for i in range(n):\n",
        "    a = np.exp(x[i])/soma\n",
        "    p.append(a)\n",
        "  return p"
      ],
      "metadata": {
        "id": "DDS-WlDMRGwm"
      },
      "execution_count": 7,
      "outputs": []
    },
    {
      "cell_type": "code",
      "source": [
        "a = 4\n",
        "x = np.linspace(-a, a, 10000)   \n",
        "#chamada para as funções\n",
        "sig = sigmoid(x)\n",
        "tangh = tangenteHiperbolica(x)\n",
        "rLU = reLU(x)\n",
        "softm = softmax(x)"
      ],
      "metadata": {
        "id": "yg10nZrzRIal"
      },
      "execution_count": 8,
      "outputs": []
    },
    {
      "cell_type": "code",
      "source": [
        "#imprimir sigmóide\n",
        "plt.plot(x, sig, color='blue', linestyle='solid') \n",
        "\n",
        "plt.xlabel(\"x\") \n",
        "plt.ylabel(\"Sigmoid(X)\") \n",
        "  \n",
        "plt.show() "
      ],
      "metadata": {
        "colab": {
          "base_uri": "https://localhost:8080/",
          "height": 279
        },
        "id": "pi4d7lXKRKOd",
        "outputId": "dd060e98-2246-4ead-d378-8cf020dc51e9"
      },
      "execution_count": 9,
      "outputs": [
        {
          "output_type": "display_data",
          "data": {
            "text/plain": [
              "<Figure size 432x288 with 1 Axes>"
            ],
            "image/png": "[encoded data removed]"
          },
          "metadata": {
            "needs_background": "light"
          }
        }
      ]
    },
    {
      "cell_type": "code",
      "source": [
        "#imprimir gráficos\n",
        "plt.plot(x, tangh, color='blue', linestyle='solid') \n",
        "plt.xlabel(\"x\") \n",
        "plt.ylabel(\"Tanh(X)\") \n",
        "  \n",
        "plt.show() \n",
        "     "
      ],
      "metadata": {
        "colab": {
          "base_uri": "https://localhost:8080/",
          "height": 279
        },
        "id": "JtwI8jMXRT_6",
        "outputId": "c618180a-146b-4d4d-be5f-a4b52278b868"
      },
      "execution_count": 10,
      "outputs": [
        {
          "output_type": "display_data",
          "data": {
            "text/plain": [
              "<Figure size 432x288 with 1 Axes>"
            ],
            "image/png": "[encoded data removed]"
          },
          "metadata": {
            "needs_background": "light"
          }
        }
      ]
    },
    {
      "cell_type": "code",
      "source": [
        "\n",
        "#imprimir ReLU\n",
        "plt.plot(x, rLU, color='blue', linestyle='solid') \n",
        "\n",
        "plt.xlabel(\"x\") \n",
        "plt.ylabel(\"ReLU(X)\") \n",
        "  \n",
        "plt.show() "
      ],
      "metadata": {
        "colab": {
          "base_uri": "https://localhost:8080/",
          "height": 279
        },
        "id": "_oCTV6DWRXkm",
        "outputId": "0925f624-1164-4ea1-d044-281fe8d55ac2"
      },
      "execution_count": 11,
      "outputs": [
        {
          "output_type": "display_data",
          "data": {
            "text/plain": [
              "<Figure size 432x288 with 1 Axes>"
            ],
            "image/png": "[encoded data removed]"
          },
          "metadata": {
            "needs_background": "light"
          }
        }
      ]
    },
    {
      "cell_type": "code",
      "source": [
        "\n",
        "#imprimir Softmax\n",
        "plt.plot(x, softm, color='blue', linestyle='solid') \n",
        "#plt.plot(x, lin) \n",
        "\n",
        "plt.xlabel(\"x\") \n",
        "plt.ylabel(\"SoftMax(X)\") \n",
        "  \n",
        "plt.show() "
      ],
      "metadata": {
        "colab": {
          "base_uri": "https://localhost:8080/",
          "height": 279
        },
        "id": "DU8BGAbRRcPR",
        "outputId": "fee7a2e2-09a7-4412-b8af-6aa9ce0d183b"
      },
      "execution_count": 12,
      "outputs": [
        {
          "output_type": "display_data",
          "data": {
            "text/plain": [
              "<Figure size 432x288 with 1 Axes>"
            ],
            "image/png": "[encoded data removed]"
          },
          "metadata": {
            "needs_background": "light"
          }
        }
      ]
    },
    {
      "cell_type": "code",
      "source": [
        "\n",
        "#imprimir todas as funções\n",
        "plt.plot(x, sig, label = \"Sigmóide\", color='blue', linestyle='solid')\n",
        "plt.plot(x, tangh, label = \"Tangente Hiperbólica\", color='yellow', linestyle='solid')\n",
        "plt.plot(x, rLU, label = \"ReLU\", color='green', linestyle='solid')\n",
        "plt.plot(x, softm, label = \"SoftMax\", color='black', linestyle='solid')\n",
        "\n",
        "plt.xlabel(\"x\") \n",
        "plt.ylabel(\"Função de Ativação\") \n",
        "plt.title('Estudo das funçoes de Ativação')\n",
        "plt.legend()\n",
        "  \n",
        "plt.show() "
      ],
      "metadata": {
        "colab": {
          "base_uri": "https://localhost:8080/",
          "height": 295
        },
        "id": "yrqsAsDaRf0e",
        "outputId": "99f7c7cb-95e7-4aaf-a5e9-0d85093523f9"
      },
      "execution_count": 13,
      "outputs": [
        {
          "output_type": "display_data",
          "data": {
            "text/plain": [
              "<Figure size 432x288 with 1 Axes>"
            ],
            "image/png": "[encoded data removed]"
          },
          "metadata": {
            "needs_background": "light"
          }
        }
      ]
    },
    {
      "cell_type": "markdown",
      "source": [
        "**Redes Neurais**\n",
        "\n",
        "Carregar os Dados"
      ],
      "metadata": {
        "id": "peKzNwH3RkOs"
      }
    },
    {
      "cell_type": "code",
      "source": [
        "from sklearn.datasets import load_digits\n",
        "digitos = load_digits()\n",
        "     "
      ],
      "metadata": {
        "id": "uuhYAjouRpLN"
      },
      "execution_count": 14,
      "outputs": []
    },
    {
      "cell_type": "code",
      "source": [
        "#Existem 1797 imagens, sendo que cada uma tem uma dimensão 8 x 8 = 64)\n",
        "print(\"Shape dos dados de imagens:{}\".format(digitos.data.shape))\n",
        "# Apresentar o total de dados rotulados com inteiros de 0 a 9\n",
        "print(\"Shape dos dados rotulados: {}\".format(digitos.target.shape))"
      ],
      "metadata": {
        "colab": {
          "base_uri": "https://localhost:8080/"
        },
        "id": "N4TNK8N3Rri2",
        "outputId": "0e537a38-bd8d-494d-9c95-caddb3f7eccd"
      },
      "execution_count": 15,
      "outputs": [
        {
          "output_type": "stream",
          "name": "stdout",
          "text": [
            "Shape dos dados de imagens:(1797, 64)\n",
            "Shape dos dados rotulados: (1797,)\n"
          ]
        }
      ]
    },
    {
      "cell_type": "code",
      "source": [
        "import numpy as np \n",
        "import matplotlib.pyplot as plt\n",
        "plt.figure(figsize=(14,4))\n",
        "for index, (imagem, rotulo) in enumerate(zip(digitos.data[0:5], \n",
        "                                           digitos.target[0:5])):\n",
        " plt.subplot(1, 5, index + 1)\n",
        " plt.imshow(np.reshape(imagem, (8,8)), \n",
        "            cmap=plt.cm.gray)\n",
        " plt.title('Treinamento: {}\\n'.format(rotulo, fontsize = 15))"
      ],
      "metadata": {
        "colab": {
          "base_uri": "https://localhost:8080/",
          "height": 214
        },
        "id": "l5TTh9NgRvJO",
        "outputId": "e14e8b40-40ca-4966-c29e-8cb3cbc24542"
      },
      "execution_count": 16,
      "outputs": [
        {
          "output_type": "display_data",
          "data": {
            "text/plain": [
              "<Figure size 1008x288 with 5 Axes>"
            ],
            "image/png": "[encoded data removed]"
          },
          "metadata": {
            "needs_background": "light"
          }
        }
      ]
    },
    {
      "cell_type": "markdown",
      "source": [
        "**Treinamento**"
      ],
      "metadata": {
        "id": "Hy7FKNekRzJ5"
      }
    },
    {
      "cell_type": "code",
      "source": [
        "from sklearn.model_selection import train_test_split\n",
        "x_treino, x_teste, y_treino, y_teste = train_test_split(digitos.data, \n",
        "                                   digitos.target, \n",
        "                                   test_size=0.25, \n",
        "                                   random_state=0)\n",
        "     "
      ],
      "metadata": {
        "id": "rAJkS7OlR136"
      },
      "execution_count": 17,
      "outputs": []
    },
    {
      "cell_type": "code",
      "source": [
        "from sklearn.linear_model import LogisticRegression\n",
        "from sklearn.pipeline import make_pipeline\n",
        "from sklearn.preprocessing import StandardScaler\n",
        "pipe = make_pipeline(StandardScaler(), \n",
        "                     LogisticRegression())\n",
        "pipe.fit(x_treino, y_treino)"
      ],
      "metadata": {
        "colab": {
          "base_uri": "https://localhost:8080/",
          "height": 126
        },
        "id": "2khyyngJR4r5",
        "outputId": "8cb330b3-c54d-42a8-dbf1-4a7b3f83bf5a"
      },
      "execution_count": 20,
      "outputs": [
        {
          "output_type": "execute_result",
          "data": {
            "text/plain": [
              "Pipeline(steps=[('standardscaler', StandardScaler()),\n",
              "                ('logisticregression', LogisticRegression())])"
            ],
            "text/html": [
              "<style>#sk-container-id-2 {color: black;background-color: white;}#sk-container-id-2 pre{padding: 0;}#sk-container-id-2 div.sk-toggleable {background-color: white;}#sk-container-id-2 label.sk-toggleable__label {cursor: pointer;display: block;width: 100%;margin-bottom: 0;padding: 0.3em;box-sizing: border-box;text-align: center;}#sk-container-id-2 label.sk-toggleable__label-arrow:before {content: \"▸\";float: left;margin-right: 0.25em;color: #696969;}#sk-container-id-2 label.sk-toggleable__label-arrow:hover:before {color: black;}#sk-container-id-2 div.sk-estimator:hover label.sk-toggleable__label-arrow:before {color: black;}#sk-container-id-2 div.sk-toggleable__content {max-height: 0;max-width: 0;overflow: hidden;text-align: left;background-color: #f0f8ff;}#sk-container-id-2 div.sk-toggleable__content pre {margin: 0.2em;color: black;border-radius: 0.25em;background-color: #f0f8ff;}#sk-container-id-2 input.sk-toggleable__control:checked~div.sk-toggleable__content {max-height: 200px;max-width: 100%;overflow: auto;}#sk-container-id-2 input.sk-toggleable__control:checked~label.sk-toggleable__label-arrow:before {content: \"▾\";}#sk-container-id-2 div.sk-estimator input.sk-toggleable__control:checked~label.sk-toggleable__label {background-color: #d4ebff;}#sk-container-id-2 div.sk-label input.sk-toggleable__control:checked~label.sk-toggleable__label {background-color: #d4ebff;}#sk-container-id-2 input.sk-hidden--visually {border: 0;clip: rect(1px 1px 1px 1px);clip: rect(1px, 1px, 1px, 1px);height: 1px;margin: -1px;overflow: hidden;padding: 0;position: absolute;width: 1px;}#sk-container-id-2 div.sk-estimator {font-family: monospace;background-color: #f0f8ff;border: 1px dotted black;border-radius: 0.25em;box-sizing: border-box;margin-bottom: 0.5em;}#sk-container-id-2 div.sk-estimator:hover {background-color: #d4ebff;}#sk-container-id-2 div.sk-parallel-item::after {content: \"\";width: 100%;border-bottom: 1px solid gray;flex-grow: 1;}#sk-container-id-2 div.sk-label:hover label.sk-toggleable__label {background-color: #d4ebff;}#sk-container-id-2 div.sk-serial::before {content: \"\";position: absolute;border-left: 1px solid gray;box-sizing: border-box;top: 0;bottom: 0;left: 50%;z-index: 0;}#sk-container-id-2 div.sk-serial {display: flex;flex-direction: column;align-items: center;background-color: white;padding-right: 0.2em;padding-left: 0.2em;position: relative;}#sk-container-id-2 div.sk-item {position: relative;z-index: 1;}#sk-container-id-2 div.sk-parallel {display: flex;align-items: stretch;justify-content: center;background-color: white;position: relative;}#sk-container-id-2 div.sk-item::before, #sk-container-id-2 div.sk-parallel-item::before {content: \"\";position: absolute;border-left: 1px solid gray;box-sizing: border-box;top: 0;bottom: 0;left: 50%;z-index: -1;}#sk-container-id-2 div.sk-parallel-item {display: flex;flex-direction: column;z-index: 1;position: relative;background-color: white;}#sk-container-id-2 div.sk-parallel-item:first-child::after {align-self: flex-end;width: 50%;}#sk-container-id-2 div.sk-parallel-item:last-child::after {align-self: flex-start;width: 50%;}#sk-container-id-2 div.sk-parallel-item:only-child::after {width: 0;}#sk-container-id-2 div.sk-dashed-wrapped {border: 1px dashed gray;margin: 0 0.4em 0.5em 0.4em;box-sizing: border-box;padding-bottom: 0.4em;background-color: white;}#sk-container-id-2 div.sk-label label {font-family: monospace;font-weight: bold;display: inline-block;line-height: 1.2em;}#sk-container-id-2 div.sk-label-container {text-align: center;}#sk-container-id-2 div.sk-container {/* jupyter's `normalize.less` sets `[hidden] { display: none; }` but bootstrap.min.css set `[hidden] { display: none !important; }` so we also need the `!important` here to be able to override the default hidden behavior on the sphinx rendered scikit-learn.org. See: https://github.com/scikit-learn/scikit-learn/issues/21755 */display: inline-block !important;position: relative;}#sk-container-id-2 div.sk-text-repr-fallback {display: none;}</style><div id=\"sk-container-id-2\" class=\"sk-top-container\"><div class=\"sk-text-repr-fallback\"><pre>Pipeline(steps=[(&#x27;standardscaler&#x27;, StandardScaler()),\n",
              "                (&#x27;logisticregression&#x27;, LogisticRegression())])</pre><b>In a Jupyter environment, please rerun this cell to show the HTML representation or trust the notebook. <br />On GitHub, the HTML representation is unable to render, please try loading this page with nbviewer.org.</b></div><div class=\"sk-container\" hidden><div class=\"sk-item sk-dashed-wrapped\"><div class=\"sk-label-container\"><div class=\"sk-label sk-toggleable\"><input class=\"sk-toggleable__control sk-hidden--visually\" id=\"sk-estimator-id-4\" type=\"checkbox\" ><label for=\"sk-estimator-id-4\" class=\"sk-toggleable__label sk-toggleable__label-arrow\">Pipeline</label><div class=\"sk-toggleable__content\"><pre>Pipeline(steps=[(&#x27;standardscaler&#x27;, StandardScaler()),\n",
              "                (&#x27;logisticregression&#x27;, LogisticRegression())])</pre></div></div></div><div class=\"sk-serial\"><div class=\"sk-item\"><div class=\"sk-estimator sk-toggleable\"><input class=\"sk-toggleable__control sk-hidden--visually\" id=\"sk-estimator-id-5\" type=\"checkbox\" ><label for=\"sk-estimator-id-5\" class=\"sk-toggleable__label sk-toggleable__label-arrow\">StandardScaler</label><div class=\"sk-toggleable__content\"><pre>StandardScaler()</pre></div></div></div><div class=\"sk-item\"><div class=\"sk-estimator sk-toggleable\"><input class=\"sk-toggleable__control sk-hidden--visually\" id=\"sk-estimator-id-6\" type=\"checkbox\" ><label for=\"sk-estimator-id-6\" class=\"sk-toggleable__label sk-toggleable__label-arrow\">LogisticRegression</label><div class=\"sk-toggleable__content\"><pre>LogisticRegression()</pre></div></div></div></div></div></div></div>"
            ]
          },
          "metadata": {},
          "execution_count": 20
        }
      ]
    },
    {
      "cell_type": "code",
      "source": [],
      "metadata": {
        "id": "f2laZuh3Sd7o"
      },
      "execution_count": null,
      "outputs": []
    }
  ]
}